{
 "cells": [
  {
   "cell_type": "markdown",
   "id": "c9f026e7-f1ce-41c2-a925-4ab46c38dada",
   "metadata": {},
   "source": [
    "# Data Science Tools and Ecosystem"
   ]
  },
  {
   "cell_type": "markdown",
   "id": "1584a53f-c2a7-4331-a403-f384e9f7d4d1",
   "metadata": {},
   "source": [
    "#### In this notebook, Data Science Tools and Ecosystem are summarized."
   ]
  },
  {
   "cell_type": "markdown",
   "id": "12c74114-e46a-4de9-9651-74006b4a4c81",
   "metadata": {},
   "source": [
    "**Objectives**\n",
    "* List popular languages for Data Science\n",
    "* List some of the commonly used libraries in Data Science\n",
    "* List some of the common Data Science Tools\n",
    "* Give a few examples of evaluating arithmetic expressions in Python\n"
   ]
  },
  {
   "cell_type": "markdown",
   "id": "8017df90-3ea8-41fb-988a-4c83ad7ea167",
   "metadata": {},
   "source": [
    "#### Some of the popular languages that Data Scientists use are:\n",
    "1. Python\n",
    "2. R\n",
    "3. Julia\n",
    "4. SQL\n",
    "5. C/C++\n",
    "6. Java\n",
    "7. Javascript\n",
    "8. Ruby\n",
    "9. Scala\n",
    "10. PHP\n",
    "    \n",
    "    "
   ]
  },
  {
   "cell_type": "markdown",
   "id": "ce07743f-a725-40fe-8773-69bef4c9bb90",
   "metadata": {},
   "source": [
    "#### Some of the commonly used libraries used by Data Scientists include:\n",
    "1. Pandas\n",
    "2. Numpy\n",
    "3. Matplotlib\n",
    "4. Scikit-learn\n",
    "5. Keras\n",
    "6. TensorFlow\n",
    "7. ggplot2\n",
    "8. dplyr\n"
   ]
  },
  {
   "cell_type": "markdown",
   "id": "4ef041b7-b135-4bae-b51b-c48f8d9b0868",
   "metadata": {},
   "source": [
    "|Data Science Tools|\n",
    "|-------|\n",
    "|TensorFlow|\n",
    "|Apache Spark|\n",
    "|RStudio|\n"
   ]
  },
  {
   "cell_type": "markdown",
   "id": "73b039d5-c992-494b-ac1e-6dd00bebb583",
   "metadata": {},
   "source": [
    "### Below are a few examples of evaluating arithmetic expressions in Python"
   ]
  },
  {
   "cell_type": "code",
   "execution_count": 1,
   "id": "d9a0c947-b8d1-43e9-b764-3fff8ca9f0fb",
   "metadata": {},
   "outputs": [
    {
     "data": {
      "text/plain": [
       "17"
      ]
     },
     "execution_count": 1,
     "metadata": {},
     "output_type": "execute_result"
    }
   ],
   "source": [
    "# This a simple arithmetic expression to mutiply then add integers\n",
    "(3*4)+5"
   ]
  },
  {
   "cell_type": "code",
   "execution_count": 2,
   "id": "0375cde1-73c9-4bf7-bfe5-b2165e895fdc",
   "metadata": {},
   "outputs": [
    {
     "name": "stdout",
     "output_type": "stream",
     "text": [
      "3.3333333333333335\n"
     ]
    }
   ],
   "source": [
    "# This will convert 200 minutes to hours by diving by 60\n",
    "minutes = 200\n",
    "hours = minutes/60\n",
    "print(hours)"
   ]
  },
  {
   "cell_type": "markdown",
   "id": "9f13922a-e30e-4423-8e55-1589b9dc5788",
   "metadata": {},
   "source": [
    "## Author\n",
    "Tayo Adeyo"
   ]
  },
  {
   "cell_type": "code",
   "execution_count": null,
   "id": "cd56254b-216c-4bfc-8653-6562eb636d06",
   "metadata": {},
   "outputs": [],
   "source": []
  }
 ],
 "metadata": {
  "kernelspec": {
   "display_name": "Python 3 (ipykernel)",
   "language": "python",
   "name": "python3"
  },
  "language_info": {
   "codemirror_mode": {
    "name": "ipython",
    "version": 3
   },
   "file_extension": ".py",
   "mimetype": "text/x-python",
   "name": "python",
   "nbconvert_exporter": "python",
   "pygments_lexer": "ipython3",
   "version": "3.9.12"
  }
 },
 "nbformat": 4,
 "nbformat_minor": 5
}
